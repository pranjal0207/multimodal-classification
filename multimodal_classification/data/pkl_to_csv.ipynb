{
 "cells": [
  {
   "cell_type": "code",
   "execution_count": 4,
   "metadata": {},
   "outputs": [],
   "source": [
    "import os\n",
    "import pandas as pd"
   ]
  },
  {
   "cell_type": "code",
   "execution_count": 6,
   "metadata": {},
   "outputs": [],
   "source": [
    "cwd=os.getcwd()\n",
    "docs_features_pkl_path = os.path.join(cwd, \"docs_extracted_features.pkl\")\n",
    "docs_features_csv_path = os.path.join(cwd, \"docs_extracted_features.csv\")\n",
    "imgs_mean_feature_vectors_pkl_path = os.path.join(cwd, \"imgs_mean_feature_vectors.pkl\")\n",
    "imgs_mean_feature_vectors_csv_path = os.path.join(cwd, \"imgs_mean_feature_vectors.csv\")\n",
    "\n"
   ]
  },
  {
   "cell_type": "code",
   "execution_count": 11,
   "metadata": {},
   "outputs": [],
   "source": [
    "def convert_pkl_to_csv(path_pkl, path_csv):\n",
    "    print(\"Converting ...\")\n",
    "    df = pd.read_pickle(os.path.join(path_pkl))\n",
    "    df.to_csv(path_csv)\n",
    "    print(\"Finished\")"
   ]
  },
  {
   "cell_type": "code",
   "execution_count": 12,
   "metadata": {},
   "outputs": [
    {
     "name": "stdout",
     "output_type": "stream",
     "text": [
      "Converting ...\n",
      "Finished\n",
      "Converting ...\n",
      "Finished\n"
     ]
    }
   ],
   "source": [
    "convert_pkl_to_csv(docs_features_pkl_path, docs_features_csv_path)\n",
    "convert_pkl_to_csv(imgs_mean_feature_vectors_pkl_path, imgs_mean_feature_vectors_csv_path)"
   ]
  }
 ],
 "metadata": {
  "kernelspec": {
   "display_name": "Python 3",
   "language": "python",
   "name": "python3"
  },
  "language_info": {
   "codemirror_mode": {
    "name": "ipython",
    "version": 3
   },
   "file_extension": ".py",
   "mimetype": "text/x-python",
   "name": "python",
   "nbconvert_exporter": "python",
   "pygments_lexer": "ipython3",
   "version": "3.5.2"
  }
 },
 "nbformat": 4,
 "nbformat_minor": 2
}
