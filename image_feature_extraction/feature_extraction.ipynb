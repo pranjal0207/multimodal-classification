{
 "cells": [
  {
   "cell_type": "code",
   "execution_count": 1,
   "metadata": {},
   "outputs": [
    {
     "name": "stderr",
     "output_type": "stream",
     "text": [
      "Using TensorFlow backend.\n"
     ]
    }
   ],
   "source": [
    "import os\n",
    "import re\n",
    "import h5py\n",
    "import numpy as np\n",
    "import pandas as pd\n",
    "\n",
    "import keras\n",
    "from keras.utils.io_utils import HDF5Matrix\n",
    "from keras.models import Sequential, Model\n",
    "from keras.layers import Conv2D, MaxPooling2D, MaxPool2D, Flatten, Dense, Dropout, Activation, Input\n",
    "from keras.optimizers import SGD\n",
    "from keras.applications import VGG16\n",
    "from keras.preprocessing.image import ImageDataGenerator"
   ]
  },
  {
   "cell_type": "code",
   "execution_count": 2,
   "metadata": {},
   "outputs": [],
   "source": [
    "cwd=os.getcwd()\n",
    "models_filename = os.path.join(cwd,'data/v8_vgg16_model_1.h5')\n",
    "image_dir = os.path.join(cwd,'data/recipes_splitted/images')\n",
    "image_size = (224, 224)\n",
    "batch_size = 1\n",
    "epochs = 80"
   ]
  },
  {
   "cell_type": "code",
   "execution_count": 3,
   "metadata": {},
   "outputs": [
    {
     "name": "stdout",
     "output_type": "stream",
     "text": [
      "Found 431 images belonging to 27 classes.\n"
     ]
    }
   ],
   "source": [
    "image_data_generator = ImageDataGenerator(\n",
    "rescale = 1./255,\n",
    "horizontal_flip = False,\n",
    "fill_mode = \"nearest\",\n",
    "zoom_range = 0,\n",
    "width_shift_range = 0,\n",
    "height_shift_range=0,\n",
    "rotation_range=0)\n",
    "\n",
    "\n",
    "generator_flow = image_data_generator.flow_from_directory(\n",
    "image_dir,\n",
    "target_size = (image_size[0], image_size[1]),\n",
    "batch_size = batch_size, \n",
    "class_mode = \"categorical\",\n",
    "shuffle=False)\n",
    "\n",
    "\n",
    "num_of_classes = len(generator_flow.class_indices)\n",
    "total_number_of_images=generator_flow.n"
   ]
  },
  {
   "cell_type": "code",
   "execution_count": 4,
   "metadata": {},
   "outputs": [],
   "source": [
    "images_label_and_name=generator_flow.filenames\n",
    "labels=[]\n",
    "image_names=[]\n",
    "\n",
    "for i in images_label_and_name:\n",
    "    splitted_label_and_image_name=re.split('\\/',i)\n",
    "    labels.append(splitted_label_and_image_name[0])\n",
    "    image_names.append(splitted_label_and_image_name[1])\n",
    "    \n",
    "keys=generator_flow.class_indices.keys()\n",
    "food_categories_sorted=sorted(keys,key=str)"
   ]
  },
  {
   "cell_type": "code",
   "execution_count": 5,
   "metadata": {},
   "outputs": [
    {
     "name": "stderr",
     "output_type": "stream",
     "text": [
      "/usr/local/lib/python3.5/dist-packages/ipykernel_launcher.py:9: UserWarning: Update your `Model` call to the Keras 2 API: `Model(outputs=Tensor(\"de..., inputs=Tensor(\"in...)`\n",
      "  if __name__ == '__main__':\n"
     ]
    }
   ],
   "source": [
    "model = VGG16(weights=None, include_top=False, input_shape=(image_size[0], image_size[1], 3))\n",
    "\n",
    " \n",
    "x = model.output\n",
    "x = Flatten()(x)\n",
    "x = Dense(101*2, activation=\"relu\", name=\"dense_1\")(x)\n",
    "x = Dense(101*2, activation=\"relu\", name=\"dense_2\")(x)\n",
    "predictions = Dense(101, activation=\"softmax\", name=\"dense_3\")(x)\n",
    "model_final = Model(input=model.input, output=predictions)\n",
    "model_final.compile(loss=\"categorical_crossentropy\", optimizer='adam', metrics=[\"accuracy\"])\n",
    "model_final.load_weights(models_filename)"
   ]
  },
  {
   "cell_type": "code",
   "execution_count": 6,
   "metadata": {},
   "outputs": [
    {
     "name": "stdout",
     "output_type": "stream",
     "text": [
      "_________________________________________________________________\n",
      "Layer (type)                 Output Shape              Param #   \n",
      "=================================================================\n",
      "input_1 (InputLayer)         (None, 224, 224, 3)       0         \n",
      "_________________________________________________________________\n",
      "block1_conv1 (Conv2D)        (None, 224, 224, 64)      1792      \n",
      "_________________________________________________________________\n",
      "block1_conv2 (Conv2D)        (None, 224, 224, 64)      36928     \n",
      "_________________________________________________________________\n",
      "block1_pool (MaxPooling2D)   (None, 112, 112, 64)      0         \n",
      "_________________________________________________________________\n",
      "block2_conv1 (Conv2D)        (None, 112, 112, 128)     73856     \n",
      "_________________________________________________________________\n",
      "block2_conv2 (Conv2D)        (None, 112, 112, 128)     147584    \n",
      "_________________________________________________________________\n",
      "block2_pool (MaxPooling2D)   (None, 56, 56, 128)       0         \n",
      "_________________________________________________________________\n",
      "block3_conv1 (Conv2D)        (None, 56, 56, 256)       295168    \n",
      "_________________________________________________________________\n",
      "block3_conv2 (Conv2D)        (None, 56, 56, 256)       590080    \n",
      "_________________________________________________________________\n",
      "block3_conv3 (Conv2D)        (None, 56, 56, 256)       590080    \n",
      "_________________________________________________________________\n",
      "block3_pool (MaxPooling2D)   (None, 28, 28, 256)       0         \n",
      "_________________________________________________________________\n",
      "block4_conv1 (Conv2D)        (None, 28, 28, 512)       1180160   \n",
      "_________________________________________________________________\n",
      "block4_conv2 (Conv2D)        (None, 28, 28, 512)       2359808   \n",
      "_________________________________________________________________\n",
      "block4_conv3 (Conv2D)        (None, 28, 28, 512)       2359808   \n",
      "_________________________________________________________________\n",
      "block4_pool (MaxPooling2D)   (None, 14, 14, 512)       0         \n",
      "_________________________________________________________________\n",
      "block5_conv1 (Conv2D)        (None, 14, 14, 512)       2359808   \n",
      "_________________________________________________________________\n",
      "block5_conv2 (Conv2D)        (None, 14, 14, 512)       2359808   \n",
      "_________________________________________________________________\n",
      "block5_conv3 (Conv2D)        (None, 14, 14, 512)       2359808   \n",
      "_________________________________________________________________\n",
      "block5_pool (MaxPooling2D)   (None, 7, 7, 512)         0         \n",
      "_________________________________________________________________\n",
      "flatten_1 (Flatten)          (None, 25088)             0         \n",
      "_________________________________________________________________\n",
      "dense_1 (Dense)              (None, 202)               5067978   \n",
      "_________________________________________________________________\n",
      "dense_2 (Dense)              (None, 202)               41006     \n",
      "=================================================================\n",
      "Total params: 19,823,672\n",
      "Trainable params: 19,823,672\n",
      "Non-trainable params: 0\n",
      "_________________________________________________________________\n"
     ]
    }
   ],
   "source": [
    "layer_name = 'dense_2'\n",
    "intermediate_output_model = Model(inputs=model_final.input,\n",
    "                                 outputs=model_final.get_layer(layer_name).output)\n",
    "\n",
    "intermediate_output_model.summary()"
   ]
  },
  {
   "cell_type": "code",
   "execution_count": 7,
   "metadata": {},
   "outputs": [
    {
     "name": "stdout",
     "output_type": "stream",
     "text": [
      "Network extracts 202 dimensionality feature vector from each of 431 images\n"
     ]
    }
   ],
   "source": [
    "#Extracting features from images\n",
    "features=[]\n",
    "\n",
    "for n in range(total_number_of_images):\n",
    "    batch = generator_flow.next()\n",
    "    image = batch[0][0]\n",
    "    extracted_features_from_image = intermediate_output_model.predict(np.asarray([image]))\n",
    "    features.extend(extracted_features_from_image)\n",
    "    \n",
    "print(\"Network extracts\",len(features[1]), \"dimensionality feature vector from each of\",\n",
    "      len(labels), \"images\")"
   ]
  },
  {
   "cell_type": "code",
   "execution_count": 8,
   "metadata": {},
   "outputs": [
    {
     "name": "stdout",
     "output_type": "stream",
     "text": [
      "Saving extracted features pandas dataframe to:  /notebooks/school/image_feature_extraction/data/recipes_splitted/images/extracted_features.pkl\n",
      "Extracted features pandas dataframe: \n",
      "                                               features image_names  \\\n",
      "0    [0.05771321, 0.40469226, 0.17946579, 0.0, 0.0,...     1-1.jpg   \n",
      "1    [0.24756677, 0.0, 0.81109595, 0.0, 0.0, 0.1121...    10-1.jpg   \n",
      "2    [0.16576688, 0.0, 0.56071675, 0.0, 0.0, 0.0626...    11-1.jpg   \n",
      "3    [0.0, 0.0, 0.3406139, 0.0, 0.0, 0.0, 0.4046788...    12-1.jpg   \n",
      "4    [0.0, 0.09645958, 0.6799826, 0.14097536, 0.0, ...    13-1.jpg   \n",
      "5    [0.0, 0.0, 0.9172021, 0.0, 0.0, 0.0, 0.0, 0.0,...    14-1.jpg   \n",
      "6    [0.4587431, 0.0, 0.0, 0.0, 0.0, 0.0, 0.0, 0.0,...    15-1.jpg   \n",
      "7    [0.25609338, 0.64049345, 0.27605394, 0.0, 0.0,...     2-1.jpg   \n",
      "8    [0.39920503, 0.26843926, 0.5381353, 0.3675958,...     3-1.jpg   \n",
      "9    [0.49237722, 0.0, 0.0, 0.0, 0.0, 0.7390525, 0....     4-1.jpg   \n",
      "10   [0.0, 0.36428466, 1.4273645, 0.0, 0.35082495, ...     5-1.jpg   \n",
      "11   [0.3156842, 0.24771355, 0.63597304, 0.03699988...     6-1.jpg   \n",
      "12   [0.4093045, 1.3465246, 0.0, 0.0, 0.0, 0.513238...     7-1.jpg   \n",
      "13   [0.0, 0.0, 0.5738171, 0.29084653, 0.0, 0.0, 0....     8-1.jpg   \n",
      "14   [0.0, 0.8359459, 0.678033, 0.0036350638, 0.0, ...     9-1.jpg   \n",
      "15   [0.0, 0.0, 2.1300576, 2.000462, 0.0, 2.1913753...     1-1.jpg   \n",
      "16   [0.0, 0.0, 0.6065947, 1.7425519, 0.0, 2.176771...    10-1.jpg   \n",
      "17   [0.0, 0.0, 1.9918494, 0.07079007, 0.0, 0.0, 0....    11-1.jpg   \n",
      "18   [0.0, 0.0, 3.8283827, 3.19703, 0.41139895, 2.3...     2-1.jpg   \n",
      "19   [0.0, 0.0, 1.3712598, 1.8688039, 0.0, 1.732662...     3-1.jpg   \n",
      "20   [0.0, 0.0, 0.68995404, 0.26386544, 0.0, 0.5567...     4-1.jpg   \n",
      "21   [0.17793494, 0.0, 0.88197553, 0.0, 0.0, 0.4106...     5-1.jpg   \n",
      "22   [0.0, 0.0, 0.68948793, 0.38200587, 0.0, 0.0, 0...     6-1.jpg   \n",
      "23   [0.0, 0.0, 0.14596307, 0.2009229, 0.0, 1.29535...     7-1.jpg   \n",
      "24   [0.0, 0.0, 2.8249922, 0.07545817, 0.45906693, ...     8-1.jpg   \n",
      "25   [0.023681715, 0.0, 0.127782, 0.0, 0.0, 0.0, 0....     9-1.jpg   \n",
      "26   [0.0, 1.4279982, 2.7819784, 1.1622086, 0.0, 0....     1-1.jpg   \n",
      "27   [0.0, 1.1497376, 0.85854685, 0.0, 0.0, 0.04664...     2-1.jpg   \n",
      "28   [0.0, 0.08908157, 0.9085717, 0.0, 1.0304809, 0...     3-1.jpg   \n",
      "29   [0.5067496, 0.25681812, 0.4662327, 0.05458556,...     4-1.jpg   \n",
      "..                                                 ...         ...   \n",
      "401  [0.0, 0.59422463, 0.6418828, 3.1871595, 0.0, 3...     7-6.jpg   \n",
      "402  [0.0, 0.14005032, 0.5827709, 0.62771165, 0.0, ...     7-7.jpg   \n",
      "403  [0.0, 0.103258386, 0.6830006, 0.93755984, 0.0,...     7-8.jpg   \n",
      "404  [0.0, 0.0, 0.62608504, 0.15794131, 0.0, 1.5864...     8-1.jpg   \n",
      "405  [0.0, 0.0, 0.12904085, 0.0, 0.0, 0.6577855, 0....     8-2.jpg   \n",
      "406  [0.0, 0.0, 0.78349906, 0.0, 0.0, 0.013665225, ...     8-3.jpg   \n",
      "407  [0.0, 0.0, 1.523903, 1.3003231, 0.0, 2.0490394...     8-4.jpg   \n",
      "408  [0.0, 0.0, 0.17735231, 0.0, 0.0, 0.28787357, 0...     8-5.jpg   \n",
      "409  [0.0, 0.0, 1.3958217, 0.0, 0.0, 1.8369703, 0.0...     8-6.jpg   \n",
      "410  [0.39317554, 0.0, 0.0, 0.0, 0.0, 0.0, 0.703534...     8-7.jpg   \n",
      "411  [0.0, 0.0, 0.7770529, 0.1457406, 0.0, 1.330416...     8-8.jpg   \n",
      "412  [0.0, 0.11764279, 0.24888888, 0.0, 0.0, 0.4647...     9-1.jpg   \n",
      "413  [0.0, 0.0, 0.0, 0.0, 0.0, 0.7562201, 0.0, 1.23...     9-2.jpg   \n",
      "414  [0.0, 0.0, 0.036702782, 0.0, 0.0, 0.54704857, ...     9-3.jpg   \n",
      "415  [0.0, 0.0, 0.08850374, 0.0, 0.0, 0.16665621, 0...     9-4.jpg   \n",
      "416  [0.0, 0.0, 0.0, 0.0, 0.0, 0.0, 0.21999615, 1.3...     9-5.jpg   \n",
      "417  [0.18357469, 0.0, 0.36757267, 0.0, 0.0, 1.5017...     9-6.jpg   \n",
      "418  [0.0, 0.0, 0.0, 0.0, 0.0, 0.0, 0.24539681, 1.3...     9-7.jpg   \n",
      "419  [0.0, 0.0, 0.10035224, 0.0, 0.0, 0.0, 0.244497...     9-8.jpg   \n",
      "420  [0.0, 0.0, 0.5859768, 0.0, 0.0, 2.9258401, 0.0...     9-9.jpg   \n",
      "421  [0.0, 0.0, 0.42099825, 0.10894309, 0.0, 0.1559...     1-1.jpg   \n",
      "422  [0.1367002, 2.0488439, 1.5657365, 1.0023546, 0...    10-1.jpg   \n",
      "423  [0.0, 2.665765, 0.74276143, 0.0, 2.217339, 2.2...     2-1.jpg   \n",
      "424  [0.57976013, 0.0, 0.6873007, 0.0, 0.0, 0.58961...     3-1.jpg   \n",
      "425  [0.0, 1.3992765, 2.3235285, 2.2544513, 0.0, 3....     4-1.jpg   \n",
      "426  [0.40549785, 0.0, 0.17022693, 1.4164081, 0.0, ...     5-1.jpg   \n",
      "427  [0.48674846, 3.2102394, 0.4699692, 0.0, 2.8113...     6-1.jpg   \n",
      "428  [0.3404317, 1.256371, 0.06854874, 0.0719842, 0...     7-1.jpg   \n",
      "429  [0.0, 0.0, 1.1828991, 0.0, 0.0, 0.54873884, 0....     8-1.jpg   \n",
      "430  [0.0, 0.7848998, 0.4659019, 0.81924057, 0.7542...     9-1.jpg   \n",
      "\n",
      "            labels  \n",
      "0        apple_pie  \n",
      "1        apple_pie  \n",
      "2        apple_pie  \n",
      "3        apple_pie  \n",
      "4        apple_pie  \n",
      "5        apple_pie  \n",
      "6        apple_pie  \n",
      "7        apple_pie  \n",
      "8        apple_pie  \n",
      "9        apple_pie  \n",
      "10       apple_pie  \n",
      "11       apple_pie  \n",
      "12       apple_pie  \n",
      "13       apple_pie  \n",
      "14       apple_pie  \n",
      "15      cheesecake  \n",
      "16      cheesecake  \n",
      "17      cheesecake  \n",
      "18      cheesecake  \n",
      "19      cheesecake  \n",
      "20      cheesecake  \n",
      "21      cheesecake  \n",
      "22      cheesecake  \n",
      "23      cheesecake  \n",
      "24      cheesecake  \n",
      "25      cheesecake  \n",
      "26   chicken_curry  \n",
      "27   chicken_curry  \n",
      "28   chicken_curry  \n",
      "29   chicken_curry  \n",
      "..             ...  \n",
      "401       tiramisu  \n",
      "402       tiramisu  \n",
      "403       tiramisu  \n",
      "404       tiramisu  \n",
      "405       tiramisu  \n",
      "406       tiramisu  \n",
      "407       tiramisu  \n",
      "408       tiramisu  \n",
      "409       tiramisu  \n",
      "410       tiramisu  \n",
      "411       tiramisu  \n",
      "412       tiramisu  \n",
      "413       tiramisu  \n",
      "414       tiramisu  \n",
      "415       tiramisu  \n",
      "416       tiramisu  \n",
      "417       tiramisu  \n",
      "418       tiramisu  \n",
      "419       tiramisu  \n",
      "420       tiramisu  \n",
      "421        waffles  \n",
      "422        waffles  \n",
      "423        waffles  \n",
      "424        waffles  \n",
      "425        waffles  \n",
      "426        waffles  \n",
      "427        waffles  \n",
      "428        waffles  \n",
      "429        waffles  \n",
      "430        waffles  \n",
      "\n",
      "[431 rows x 3 columns]\n"
     ]
    }
   ],
   "source": [
    "dict_images_extracted_features = {\n",
    "    'image_names': image_names,\n",
    "    'labels' : labels,\n",
    "    'features' : features   \n",
    "}\n",
    "\n",
    "df_images_extracted_features=pd.DataFrame(dict_images_extracted_features)\n",
    "\n",
    "\n",
    "print(\"Saving extracted features pandas dataframe to: \",\n",
    "      os.path.join(image_dir,\"extracted_features.pkl\"))\n",
    "df_images_extracted_features.to_pickle(os.path.join(image_dir,\"extracted_features.pkl\"))\n",
    "\n",
    "print(\"Extracted features pandas dataframe: \\n\",df_images_extracted_features)"
   ]
  }
 ],
 "metadata": {
  "kernelspec": {
   "display_name": "Python 3",
   "language": "python",
   "name": "python3"
  },
  "language_info": {
   "codemirror_mode": {
    "name": "ipython",
    "version": 3
   },
   "file_extension": ".py",
   "mimetype": "text/x-python",
   "name": "python",
   "nbconvert_exporter": "python",
   "pygments_lexer": "ipython3",
   "version": "3.5.2"
  }
 },
 "nbformat": 4,
 "nbformat_minor": 2
}
