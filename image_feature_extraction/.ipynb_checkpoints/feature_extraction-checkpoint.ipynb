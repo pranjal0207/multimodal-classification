{
 "cells": [
  {
   "cell_type": "code",
   "execution_count": 1,
   "metadata": {},
   "outputs": [
    {
     "name": "stderr",
     "output_type": "stream",
     "text": [
      "Using TensorFlow backend.\n"
     ]
    }
   ],
   "source": [
    "import os\n",
    "import re\n",
    "import h5py\n",
    "import numpy as np\n",
    "import pandas as pd\n",
    "\n",
    "import keras\n",
    "from keras.utils.io_utils import HDF5Matrix\n",
    "from keras.models import Sequential, Model\n",
    "from keras.layers import Conv2D, MaxPooling2D, MaxPool2D, Flatten, Dense, Dropout, Activation, Input\n",
    "from keras.optimizers import SGD\n",
    "from keras.applications import VGG16\n",
    "from keras.preprocessing.image import ImageDataGenerator"
   ]
  },
  {
   "cell_type": "code",
   "execution_count": 2,
   "metadata": {},
   "outputs": [],
   "source": [
    "cwd=os.getcwd()\n",
    "models_filename = os.path.join(cwd,'data/v8_vgg16_model_1.h5')\n",
    "image_dir = os.path.join(cwd,'data/recipes_splitted/images')\n",
    "image_size = (224, 224)\n",
    "batch_size = 1\n",
    "epochs = 80"
   ]
  },
  {
   "cell_type": "code",
   "execution_count": 3,
   "metadata": {},
   "outputs": [
    {
     "name": "stdout",
     "output_type": "stream",
     "text": [
      "Found 431 images belonging to 27 classes.\n"
     ]
    }
   ],
   "source": [
    "image_data_generator = ImageDataGenerator(\n",
    "rescale = 1./255,\n",
    "horizontal_flip = False,\n",
    "fill_mode = \"nearest\",\n",
    "zoom_range = 0,\n",
    "width_shift_range = 0,\n",
    "height_shift_range=0,\n",
    "rotation_range=0)\n",
    "\n",
    "\n",
    "generator_flow = image_data_generator.flow_from_directory(\n",
    "image_dir,\n",
    "target_size = (image_size[0], image_size[1]),\n",
    "batch_size = batch_size, \n",
    "class_mode = \"categorical\",\n",
    "shuffle=False)\n",
    "\n",
    "\n",
    "num_of_classes = len(generator_flow.class_indices)\n",
    "total_number_of_images=generator_flow.n"
   ]
  },
  {
   "cell_type": "code",
   "execution_count": 4,
   "metadata": {},
   "outputs": [],
   "source": [
    "images_label_and_name=generator_flow.filenames\n",
    "labels=[]\n",
    "image_names=[]\n",
    "\n",
    "for i in images_label_and_name:\n",
    "    splitted_label_and_image_name=re.split('\\/',i)\n",
    "    labels.append(splitted_label_and_image_name[0])\n",
    "    image_names.append(splitted_label_and_image_name[1])\n",
    "    \n",
    "keys=generator_flow.class_indices.keys()\n",
    "food_categories_sorted=sorted(keys,key=str)"
   ]
  },
  {
   "cell_type": "code",
   "execution_count": 5,
   "metadata": {},
   "outputs": [
    {
     "name": "stderr",
     "output_type": "stream",
     "text": [
      "/usr/local/lib/python3.5/dist-packages/ipykernel_launcher.py:9: UserWarning: Update your `Model` call to the Keras 2 API: `Model(outputs=Tensor(\"de..., inputs=Tensor(\"in...)`\n",
      "  if __name__ == '__main__':\n"
     ]
    }
   ],
   "source": [
    "model = VGG16(weights=None, include_top=False, input_shape=(image_size[0], image_size[1], 3))\n",
    "\n",
    " \n",
    "x = model.output\n",
    "x = Flatten()(x)\n",
    "x = Dense(101*2, activation=\"relu\", name=\"dense_1\")(x)\n",
    "x = Dense(101*2, activation=\"relu\", name=\"dense_2\")(x)\n",
    "predictions = Dense(101, activation=\"softmax\", name=\"dense_3\")(x)\n",
    "model_final = Model(input=model.input, output=predictions)\n",
    "model_final.compile(loss=\"categorical_crossentropy\", optimizer='adam', metrics=[\"accuracy\"])\n",
    "model_final.load_weights(models_filename)"
   ]
  },
  {
   "cell_type": "code",
   "execution_count": 6,
   "metadata": {},
   "outputs": [
    {
     "name": "stdout",
     "output_type": "stream",
     "text": [
      "_________________________________________________________________\n",
      "Layer (type)                 Output Shape              Param #   \n",
      "=================================================================\n",
      "input_1 (InputLayer)         (None, 224, 224, 3)       0         \n",
      "_________________________________________________________________\n",
      "block1_conv1 (Conv2D)        (None, 224, 224, 64)      1792      \n",
      "_________________________________________________________________\n",
      "block1_conv2 (Conv2D)        (None, 224, 224, 64)      36928     \n",
      "_________________________________________________________________\n",
      "block1_pool (MaxPooling2D)   (None, 112, 112, 64)      0         \n",
      "_________________________________________________________________\n",
      "block2_conv1 (Conv2D)        (None, 112, 112, 128)     73856     \n",
      "_________________________________________________________________\n",
      "block2_conv2 (Conv2D)        (None, 112, 112, 128)     147584    \n",
      "_________________________________________________________________\n",
      "block2_pool (MaxPooling2D)   (None, 56, 56, 128)       0         \n",
      "_________________________________________________________________\n",
      "block3_conv1 (Conv2D)        (None, 56, 56, 256)       295168    \n",
      "_________________________________________________________________\n",
      "block3_conv2 (Conv2D)        (None, 56, 56, 256)       590080    \n",
      "_________________________________________________________________\n",
      "block3_conv3 (Conv2D)        (None, 56, 56, 256)       590080    \n",
      "_________________________________________________________________\n",
      "block3_pool (MaxPooling2D)   (None, 28, 28, 256)       0         \n",
      "_________________________________________________________________\n",
      "block4_conv1 (Conv2D)        (None, 28, 28, 512)       1180160   \n",
      "_________________________________________________________________\n",
      "block4_conv2 (Conv2D)        (None, 28, 28, 512)       2359808   \n",
      "_________________________________________________________________\n",
      "block4_conv3 (Conv2D)        (None, 28, 28, 512)       2359808   \n",
      "_________________________________________________________________\n",
      "block4_pool (MaxPooling2D)   (None, 14, 14, 512)       0         \n",
      "_________________________________________________________________\n",
      "block5_conv1 (Conv2D)        (None, 14, 14, 512)       2359808   \n",
      "_________________________________________________________________\n",
      "block5_conv2 (Conv2D)        (None, 14, 14, 512)       2359808   \n",
      "_________________________________________________________________\n",
      "block5_conv3 (Conv2D)        (None, 14, 14, 512)       2359808   \n",
      "_________________________________________________________________\n",
      "block5_pool (MaxPooling2D)   (None, 7, 7, 512)         0         \n",
      "_________________________________________________________________\n",
      "flatten_1 (Flatten)          (None, 25088)             0         \n",
      "_________________________________________________________________\n",
      "dense_1 (Dense)              (None, 202)               5067978   \n",
      "_________________________________________________________________\n",
      "dense_2 (Dense)              (None, 202)               41006     \n",
      "=================================================================\n",
      "Total params: 19,823,672\n",
      "Trainable params: 19,823,672\n",
      "Non-trainable params: 0\n",
      "_________________________________________________________________\n"
     ]
    }
   ],
   "source": [
    "layer_name = 'dense_2'\n",
    "intermediate_output_model = Model(inputs=model_final.input,\n",
    "                                 outputs=model_final.get_layer(layer_name).output)\n",
    "\n",
    "intermediate_output_model.summary()"
   ]
  },
  {
   "cell_type": "code",
   "execution_count": null,
   "metadata": {},
   "outputs": [],
   "source": [
    "#Extracting features from images\n",
    "features=[]\n",
    "\n",
    "for n in range(total_number_of_images):\n",
    "    batch = generator_flow.next()\n",
    "    image = batch[0][0]\n",
    "    extracted_features_from_image = intermediate_output_model.predict(np.asarray([image]))\n",
    "    features.extend(extracted_features_from_image)\n",
    "    \n",
    "print(\"Network extracts\",len(features[1]), \"dimensionality feature vector from each of\",\n",
    "      len(labels), \"images\")"
   ]
  },
  {
   "cell_type": "code",
   "execution_count": 8,
   "metadata": {},
   "outputs": [
    {
     "name": "stdout",
     "output_type": "stream",
     "text": [
      "Saving extracted features pandas dataframe to:  /notebooks/school/multimodal_food_classification/data/recipes_splitted/images/extracted_features.pkl\n",
      "Extracted features pandas dataframe: \n",
      "                                               features image_names    labels\n",
      "0    [0.0, 0.06311749, 0.42495114, 0.0, 0.0, 0.0, 0...     1-1.jpg   sashimi\n",
      "1    [0.0, 0.0, 0.52656823, 0.0, 0.0, 0.49240652, 0...     1-2.jpg   sashimi\n",
      "2    [0.0, 0.68126893, 1.9348963, 0.1350316, 0.4191...     1-3.jpg   sashimi\n",
      "3    [0.0, 0.0, 0.3734732, 2.3349433, 1.3873168, 5....    10-1.jpg   sashimi\n",
      "4    [0.0, 0.0, 0.8758416, 0.5611335, 0.43381572, 2...     2-1.jpg   sashimi\n",
      "5    [0.0, 0.87143826, 0.31381404, 0.6033559, 0.0, ...     2-2.jpg   sashimi\n",
      "6    [0.0, 0.0, 1.5619235, 0.8206936, 0.48484206, 2...     2-3.jpg   sashimi\n",
      "7    [0.7000545, 0.0, 0.591065, 0.20104009, 0.04345...     3-1.jpg   sashimi\n",
      "8    [0.0, 0.0, 0.2139425, 0.53739035, 0.0, 1.15656...     3-2.jpg   sashimi\n",
      "9    [0.0, 0.0, 1.0539255, 0.96274376, 0.3722973, 3...     3-3.jpg   sashimi\n",
      "10   [0.0, 0.0, 0.69740504, 0.41326898, 0.0, 0.8617...     4-1.jpg   sashimi\n",
      "11   [0.0, 0.0, 0.7221176, 0.48349878, 0.0, 0.88470...     4-2.jpg   sashimi\n",
      "12   [0.0, 0.0, 1.1335046, 0.22639135, 0.0, 0.70009...     4-3.jpg   sashimi\n",
      "13   [0.0, 0.14201152, 0.8700156, 0.8151947, 0.4742...     5-1.jpg   sashimi\n",
      "14   [0.0, 0.0, 1.0731362, 0.41089043, 0.0, 0.42488...     6-1.jpg   sashimi\n",
      "15   [0.0, 0.0, 2.2729092, 2.0539324, 0.9465863, 2....     7-1.jpg   sashimi\n",
      "16   [0.0, 0.0, 1.6491766, 2.6833065, 1.2775396, 7....     8-1.jpg   sashimi\n",
      "17   [0.0, 0.0, 0.7914072, 0.84521425, 0.56849355, ...     9-1.jpg   sashimi\n",
      "18   [0.0, 0.0, 1.2020313, 2.123606, 1.0749828, 3.2...     9-2.jpg   sashimi\n",
      "19   [1.7991683, 0.0, 0.0, 0.0, 0.0, 0.0, 0.0, 1.01...     1-1.jpg     steak\n",
      "20   [1.4980229, 0.0, 0.49245623, 0.0, 0.0, 0.13358...     1-2.jpg     steak\n",
      "21   [0.41425556, 0.0, 0.0, 0.0, 0.0, 0.5540589, 0....     1-3.jpg     steak\n",
      "22   [1.0389873, 0.0, 0.0, 0.0, 0.0, 0.0, 0.0, 0.21...     1-4.jpg     steak\n",
      "23   [0.4834143, 0.48416567, 0.8087776, 0.0, 0.0, 0...     1-5.jpg     steak\n",
      "24   [2.4059587, 0.0, 0.0, 0.0, 0.0, 0.0, 0.0, 2.70...     1-6.jpg     steak\n",
      "25   [0.4095257, 0.7893793, 0.44491214, 0.64571106,...    10-1.jpg     steak\n",
      "26   [1.0044571, 0.0, 0.0, 0.0, 0.0, 0.0, 0.0, 1.21...    10-2.jpg     steak\n",
      "27   [1.8406153, 0.0, 0.0, 0.0, 0.0, 0.0, 0.0, 1.12...    10-3.jpg     steak\n",
      "28   [1.1414315, 0.0, 0.0, 0.7925767, 0.0, 0.004184...    10-4.jpg     steak\n",
      "29   [2.8552008, 0.0, 0.0, 0.0, 0.0, 0.0, 0.0, 1.25...    10-5.jpg     steak\n",
      "..                                                 ...         ...       ...\n",
      "130  [0.0, 0.0, 1.1189246, 0.0, 0.0, 0.03473359, 0....     5-4.jpg  tiramisu\n",
      "131  [0.0, 0.0, 0.3724741, 0.0, 0.0, 0.59633887, 0....     6-1.jpg  tiramisu\n",
      "132  [0.0, 0.0, 0.6205179, 0.0, 0.0, 0.9312213, 0.0...     6-2.jpg  tiramisu\n",
      "133  [0.124493256, 0.0, 0.1250195, 0.0, 0.0, 0.0, 0...     6-3.jpg  tiramisu\n",
      "134  [0.0, 0.0, 0.92072743, 0.19130436, 0.0, 0.1732...     6-4.jpg  tiramisu\n",
      "135  [0.0, 0.18953995, 1.0143899, 1.8824867, 0.0, 2...     7-1.jpg  tiramisu\n",
      "136  [0.0, 0.0, 1.1820447, 0.7100558, 0.050581798, ...     7-2.jpg  tiramisu\n",
      "137  [0.0, 0.7624678, 1.3778657, 2.4828548, 0.0, 4....     7-3.jpg  tiramisu\n",
      "138  [0.0, 0.0, 1.211377, 3.1243267, 0.0, 3.1611278...     7-4.jpg  tiramisu\n",
      "139  [0.0, 1.4706068, 0.84371346, 1.0333258, 0.0, 1...     7-5.jpg  tiramisu\n",
      "140  [0.0, 0.59422463, 0.6418828, 3.1871595, 0.0, 3...     7-6.jpg  tiramisu\n",
      "141  [0.0, 0.14005032, 0.5827709, 0.62771165, 0.0, ...     7-7.jpg  tiramisu\n",
      "142  [0.0, 0.103258386, 0.6830006, 0.93755984, 0.0,...     7-8.jpg  tiramisu\n",
      "143  [0.0, 0.0, 0.62608504, 0.15794131, 0.0, 1.5864...     8-1.jpg  tiramisu\n",
      "144  [0.0, 0.0, 0.12904085, 0.0, 0.0, 0.6577855, 0....     8-2.jpg  tiramisu\n",
      "145  [0.0, 0.0, 0.78349906, 0.0, 0.0, 0.013665225, ...     8-3.jpg  tiramisu\n",
      "146  [0.0, 0.0, 1.523903, 1.3003231, 0.0, 2.0490394...     8-4.jpg  tiramisu\n",
      "147  [0.0, 0.0, 0.17735231, 0.0, 0.0, 0.28787357, 0...     8-5.jpg  tiramisu\n",
      "148  [0.0, 0.0, 1.3958217, 0.0, 0.0, 1.8369703, 0.0...     8-6.jpg  tiramisu\n",
      "149  [0.39317554, 0.0, 0.0, 0.0, 0.0, 0.0, 0.703534...     8-7.jpg  tiramisu\n",
      "150  [0.0, 0.0, 0.7770529, 0.1457406, 0.0, 1.330416...     8-8.jpg  tiramisu\n",
      "151  [0.0, 0.11764279, 0.24888888, 0.0, 0.0, 0.4647...     9-1.jpg  tiramisu\n",
      "152  [0.0, 0.0, 0.0, 0.0, 0.0, 0.7562201, 0.0, 1.23...     9-2.jpg  tiramisu\n",
      "153  [0.0, 0.0, 0.036702782, 0.0, 0.0, 0.54704857, ...     9-3.jpg  tiramisu\n",
      "154  [0.0, 0.0, 0.08850374, 0.0, 0.0, 0.16665621, 0...     9-4.jpg  tiramisu\n",
      "155  [0.0, 0.0, 0.0, 0.0, 0.0, 0.0, 0.21999615, 1.3...     9-5.jpg  tiramisu\n",
      "156  [0.18357469, 0.0, 0.36757267, 0.0, 0.0, 1.5017...     9-6.jpg  tiramisu\n",
      "157  [0.0, 0.0, 0.0, 0.0, 0.0, 0.0, 0.24539681, 1.3...     9-7.jpg  tiramisu\n",
      "158  [0.0, 0.0, 0.10035224, 0.0, 0.0, 0.0, 0.244497...     9-8.jpg  tiramisu\n",
      "159  [0.0, 0.0, 0.5859768, 0.0, 0.0, 2.9258401, 0.0...     9-9.jpg  tiramisu\n",
      "\n",
      "[160 rows x 3 columns]\n"
     ]
    }
   ],
   "source": [
    "dict_images_extracted_features = {\n",
    "    'image_names': image_names,\n",
    "    'labels' : labels,\n",
    "    'features' : features   \n",
    "}\n",
    "\n",
    "df_images_extracted_features=pd.DataFrame(dict_images_extracted_features)\n",
    "\n",
    "\n",
    "print(\"Saving extracted features pandas dataframe to: \",\n",
    "      os.path.join(image_dir,\"extracted_features.pkl\"))\n",
    "df_images_extracted_features.to_pickle(os.path.join(image_dir,\"extracted_features.pkl\"))\n",
    "\n",
    "print(\"Extracted features pandas dataframe: \\n\",df_images_extracted_features)"
   ]
  }
 ],
 "metadata": {
  "kernelspec": {
   "display_name": "Python 3",
   "language": "python",
   "name": "python3"
  },
  "language_info": {
   "codemirror_mode": {
    "name": "ipython",
    "version": 3
   },
   "file_extension": ".py",
   "mimetype": "text/x-python",
   "name": "python",
   "nbconvert_exporter": "python",
   "pygments_lexer": "ipython3",
   "version": "3.5.2"
  }
 },
 "nbformat": 4,
 "nbformat_minor": 2
}
