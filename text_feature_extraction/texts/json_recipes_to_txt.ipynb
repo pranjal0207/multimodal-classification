{
 "cells": [
  {
   "cell_type": "code",
   "execution_count": 55,
   "metadata": {},
   "outputs": [],
   "source": [
    "import json\n",
    "import os\n",
    "import codecs\n",
    "import shutil\n"
   ]
  },
  {
   "cell_type": "code",
   "execution_count": 107,
   "metadata": {},
   "outputs": [],
   "source": [
    "cwd=os.getcwd()\n",
    "recipe_category='sushi'\n",
    "path_to_json_recipe_folder=os.path.join(cwd,os.pardir,os.pardir,'recipes_Tasty_curated',recipe_category)\n",
    "path_to_raw_texts_folder_recipe = os.path.join(cwd,'raw_texts',recipe_category)\n",
    "path_to_images_folder_recipe = os.path.join(cwd,os.pardir,os.pardir,'image_feature_extraction',\n",
    "                                            'data','recipes_splitted','images',recipe_category)\n",
    "if not os.path.exists(path_to_raw_texts_folder_recipe):\n",
    "    os.makedirs(path_to_raw_texts_folder_recipe)\n",
    "if not os.path.exists(path_to_images_folder_recipe):\n",
    "    os.makedirs(path_to_images_folder_recipe)"
   ]
  },
  {
   "cell_type": "code",
   "execution_count": 108,
   "metadata": {},
   "outputs": [
    {
     "name": "stdout",
     "output_type": "stream",
     "text": [
      "/notebooks/school/text_feature_extraction/texts/../../recipes_Tasty_curated/sushi/california-roll.jpg\n",
      "/notebooks/school/text_feature_extraction/texts/../../recipes_Tasty_curated/sushi/california-roll.jpg\n",
      "/notebooks/school/text_feature_extraction/texts/../../recipes_Tasty_curated/sushi/california-roll.json\n",
      "/notebooks/school/text_feature_extraction/texts/../../recipes_Tasty_curated/sushi/easy-mosaic-sushi.jpg\n",
      "/notebooks/school/text_feature_extraction/texts/../../recipes_Tasty_curated/sushi/easy-mosaic-sushi.jpg\n",
      "/notebooks/school/text_feature_extraction/texts/../../recipes_Tasty_curated/sushi/easy-mosaic-sushi.json\n",
      "/notebooks/school/text_feature_extraction/texts/../../recipes_Tasty_curated/sushi/flower-sushi-roll.jpg\n",
      "/notebooks/school/text_feature_extraction/texts/../../recipes_Tasty_curated/sushi/flower-sushi-roll.jpg\n",
      "/notebooks/school/text_feature_extraction/texts/../../recipes_Tasty_curated/sushi/flower-sushi-roll.json\n",
      "/notebooks/school/text_feature_extraction/texts/../../recipes_Tasty_curated/sushi/how-to-throw-a-sushi-party.jpg\n",
      "/notebooks/school/text_feature_extraction/texts/../../recipes_Tasty_curated/sushi/how-to-throw-a-sushi-party.jpg\n",
      "/notebooks/school/text_feature_extraction/texts/../../recipes_Tasty_curated/sushi/how-to-throw-a-sushi-party.json\n",
      "/notebooks/school/text_feature_extraction/texts/../../recipes_Tasty_curated/sushi/philadelphia-roll.jpg\n",
      "/notebooks/school/text_feature_extraction/texts/../../recipes_Tasty_curated/sushi/philadelphia-roll.jpg\n",
      "/notebooks/school/text_feature_extraction/texts/../../recipes_Tasty_curated/sushi/philadelphia-roll.json\n",
      "/notebooks/school/text_feature_extraction/texts/../../recipes_Tasty_curated/sushi/rainbow-veggie-roll.jpg\n",
      "/notebooks/school/text_feature_extraction/texts/../../recipes_Tasty_curated/sushi/rainbow-veggie-roll.jpg\n",
      "/notebooks/school/text_feature_extraction/texts/../../recipes_Tasty_curated/sushi/rainbow-veggie-roll.json\n",
      "/notebooks/school/text_feature_extraction/texts/../../recipes_Tasty_curated/sushi/spicy-tuna-roll.jpg\n",
      "/notebooks/school/text_feature_extraction/texts/../../recipes_Tasty_curated/sushi/spicy-tuna-roll.jpg\n",
      "/notebooks/school/text_feature_extraction/texts/../../recipes_Tasty_curated/sushi/spicy-tuna-roll.json\n",
      "/notebooks/school/text_feature_extraction/texts/../../recipes_Tasty_curated/sushi/veggie-sushi-4-ways.jpg\n",
      "/notebooks/school/text_feature_extraction/texts/../../recipes_Tasty_curated/sushi/veggie-sushi-4-ways.jpg\n",
      "/notebooks/school/text_feature_extraction/texts/../../recipes_Tasty_curated/sushi/veggie-sushi-4-ways.json\n"
     ]
    }
   ],
   "source": [
    "file_number=16\n",
    "image_index=1\n",
    "for file in sorted(os.listdir(path_to_json_recipe_folder)):\n",
    "    file_path=os.path.join(path_to_json_recipe_folder, file)\n",
    "    print(file_path)\n",
    "    if file.endswith(\".json\"):\n",
    "        with open(file_path) as r:\n",
    "            data = json.load(r)\n",
    "            name=data[\"name\"]    \n",
    "            description=data[\"description\"]\n",
    "            recipe_category=data[\"recipeCategory\"]\n",
    "            recipe_cousin=data[\"recipeCuisine\"]\n",
    "            recipe_ingridient=' '.join(data[\"recipeIngredient\"])\n",
    "            recipe_instructions_steps=' '.join(data[\"recipeInstructionSteps\"])\n",
    "            r.close()\n",
    "            #os.remove(file_path)\n",
    "\n",
    "        with open(os.path.join(path_to_raw_texts_folder_recipe,str(file_number)+\".txt\"), \"a\", encoding=\"utf-8\") as f:\n",
    "            f.write(name+\"\\n\")\n",
    "            f.write(recipe_category+\"\\n\")\n",
    "            f.write(description+\"\\n\")\n",
    "            f.write(recipe_cousin+\"\\n\")\n",
    "            f.write(recipe_ingridient+\"\\n\")\n",
    "            f.write(recipe_instructions_steps+\"\\n\")\n",
    "            f.close()\n",
    "        image_index=1\n",
    "        file_number=file_number+1\n",
    "\n",
    "            \n",
    "    if file.endswith(\".jpg\"):\n",
    "        print(file_path)\n",
    "        #os.rename(file_path,os.path.join(path_to_json_recipe_folder,str(file_number)+\"-\"+str(image_index)+\".jpg\"))\n",
    "        shutil.copyfile(file_path,os.path.join(path_to_images_folder_recipe,str(file_number)+\"-\"+str(image_index)+\".jpg\"))\n",
    "        image_index=image_index+1\n",
    "        #os.remove(file_path)\n"
   ]
  }
 ],
 "metadata": {
  "kernelspec": {
   "display_name": "Python 3",
   "language": "python",
   "name": "python3"
  },
  "language_info": {
   "codemirror_mode": {
    "name": "ipython",
    "version": 3
   },
   "file_extension": ".py",
   "mimetype": "text/x-python",
   "name": "python",
   "nbconvert_exporter": "python",
   "pygments_lexer": "ipython3",
   "version": "3.5.2"
  }
 },
 "nbformat": 4,
 "nbformat_minor": 2
}
